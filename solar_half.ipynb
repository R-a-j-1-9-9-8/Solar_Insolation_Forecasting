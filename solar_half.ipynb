{
 "cells": [
  {
   "cell_type": "markdown",
   "metadata": {},
   "source": [
    "# Feature Scaling"
   ]
  },
  {
   "cell_type": "markdown",
   "metadata": {},
   "source": [
    "Feature scaling is a method used to normalize the range of independent variables or features of data.Since the range of values of raw data varies widely, in some machine learning algorithms, objective functions will not work properly without normalization. For example, many algorithms (like SVM) calculate the distance between two points by the Euclidean distance. If one of the features has a broad range of values, the distance will be governed by this particular feature. Therefore, the range of all features should be normalized so that each feature contributes approximately proportionately to the final distance.\n",
    "Another reason why feature scaling is applied is that gradient descent converges much faster with feature scaling than without it. Machine learning algorithms like linear regression, logistic regression, neural network, etc. that use gradient descent as an optimization technique require data to be scaled."
   ]
  },
  {
   "cell_type": "markdown",
   "metadata": {},
   "source": [
    "We will train the machine learning algorithms on 3 types of data:-\n",
    "* Original\n",
    "* Normalised (Data will be scaled between 0 and 1)\n",
    "* Standardised (Data wil have mean of 0 and standard deviation of 1.)<br><br>\n",
    "We will then compare the performance for best results"
   ]
  },
  {
   "cell_type": "code",
   "execution_count": 12,
   "metadata": {},
   "outputs": [],
   "source": [
    "#Importing the necessary libraries\n",
    "import pandas as pd\n",
    "import numpy as np\n",
    "import matplotlib.pyplot as plt"
   ]
  },
  {
   "cell_type": "code",
   "execution_count": 15,
   "metadata": {},
   "outputs": [],
   "source": [
    "#loading the data\n",
    "data= pd.read_csv(\"D:\\\\CET\\\\major\\\\solar_preprocessed.csv\")"
   ]
  },
  {
   "cell_type": "code",
   "execution_count": 16,
   "metadata": {},
   "outputs": [
    {
     "data": {
      "text/html": [
       "<div>\n",
       "<style scoped>\n",
       "    .dataframe tbody tr th:only-of-type {\n",
       "        vertical-align: middle;\n",
       "    }\n",
       "\n",
       "    .dataframe tbody tr th {\n",
       "        vertical-align: top;\n",
       "    }\n",
       "\n",
       "    .dataframe thead th {\n",
       "        text-align: right;\n",
       "    }\n",
       "</style>\n",
       "<table border=\"1\" class=\"dataframe\">\n",
       "  <thead>\n",
       "    <tr style=\"text-align: right;\">\n",
       "      <th></th>\n",
       "      <th>insolation</th>\n",
       "      <th>Temperature_MAX</th>\n",
       "      <th>Relative_Humidity</th>\n",
       "      <th>Precipitation</th>\n",
       "      <th>Specific_Humidity</th>\n",
       "    </tr>\n",
       "  </thead>\n",
       "  <tbody>\n",
       "    <tr>\n",
       "      <th>count</th>\n",
       "      <td>1827.000000</td>\n",
       "      <td>1827.000000</td>\n",
       "      <td>1827.000000</td>\n",
       "      <td>1827.000000</td>\n",
       "      <td>1827.000000</td>\n",
       "    </tr>\n",
       "    <tr>\n",
       "      <th>mean</th>\n",
       "      <td>4.718970</td>\n",
       "      <td>31.119507</td>\n",
       "      <td>73.303503</td>\n",
       "      <td>4.674269</td>\n",
       "      <td>16.259721</td>\n",
       "    </tr>\n",
       "    <tr>\n",
       "      <th>std</th>\n",
       "      <td>1.450642</td>\n",
       "      <td>4.446903</td>\n",
       "      <td>12.481483</td>\n",
       "      <td>10.756903</td>\n",
       "      <td>4.381161</td>\n",
       "    </tr>\n",
       "    <tr>\n",
       "      <th>min</th>\n",
       "      <td>0.330000</td>\n",
       "      <td>20.000000</td>\n",
       "      <td>38.290000</td>\n",
       "      <td>0.000000</td>\n",
       "      <td>6.600000</td>\n",
       "    </tr>\n",
       "    <tr>\n",
       "      <th>25%</th>\n",
       "      <td>4.030000</td>\n",
       "      <td>28.405000</td>\n",
       "      <td>63.160000</td>\n",
       "      <td>0.000000</td>\n",
       "      <td>12.375000</td>\n",
       "    </tr>\n",
       "    <tr>\n",
       "      <th>50%</th>\n",
       "      <td>4.790000</td>\n",
       "      <td>30.720000</td>\n",
       "      <td>74.900000</td>\n",
       "      <td>0.630000</td>\n",
       "      <td>17.050000</td>\n",
       "    </tr>\n",
       "    <tr>\n",
       "      <th>75%</th>\n",
       "      <td>5.810000</td>\n",
       "      <td>33.830000</td>\n",
       "      <td>84.580000</td>\n",
       "      <td>4.865000</td>\n",
       "      <td>20.375000</td>\n",
       "    </tr>\n",
       "    <tr>\n",
       "      <th>max</th>\n",
       "      <td>7.140000</td>\n",
       "      <td>43.380000</td>\n",
       "      <td>94.760000</td>\n",
       "      <td>174.320000</td>\n",
       "      <td>22.250000</td>\n",
       "    </tr>\n",
       "  </tbody>\n",
       "</table>\n",
       "</div>"
      ],
      "text/plain": [
       "        insolation  Temperature_MAX  Relative_Humidity  Precipitation  \\\n",
       "count  1827.000000      1827.000000        1827.000000    1827.000000   \n",
       "mean      4.718970        31.119507          73.303503       4.674269   \n",
       "std       1.450642         4.446903          12.481483      10.756903   \n",
       "min       0.330000        20.000000          38.290000       0.000000   \n",
       "25%       4.030000        28.405000          63.160000       0.000000   \n",
       "50%       4.790000        30.720000          74.900000       0.630000   \n",
       "75%       5.810000        33.830000          84.580000       4.865000   \n",
       "max       7.140000        43.380000          94.760000     174.320000   \n",
       "\n",
       "       Specific_Humidity  \n",
       "count        1827.000000  \n",
       "mean           16.259721  \n",
       "std             4.381161  \n",
       "min             6.600000  \n",
       "25%            12.375000  \n",
       "50%            17.050000  \n",
       "75%            20.375000  \n",
       "max            22.250000  "
      ]
     },
     "execution_count": 16,
     "metadata": {},
     "output_type": "execute_result"
    }
   ],
   "source": [
    "data.describe()"
   ]
  },
  {
   "cell_type": "code",
   "execution_count": 17,
   "metadata": {},
   "outputs": [
    {
     "data": {
      "text/html": [
       "<div>\n",
       "<style scoped>\n",
       "    .dataframe tbody tr th:only-of-type {\n",
       "        vertical-align: middle;\n",
       "    }\n",
       "\n",
       "    .dataframe tbody tr th {\n",
       "        vertical-align: top;\n",
       "    }\n",
       "\n",
       "    .dataframe thead th {\n",
       "        text-align: right;\n",
       "    }\n",
       "</style>\n",
       "<table border=\"1\" class=\"dataframe\">\n",
       "  <thead>\n",
       "    <tr style=\"text-align: right;\">\n",
       "      <th></th>\n",
       "      <th>insolation</th>\n",
       "      <th>Temperature_MAX</th>\n",
       "      <th>Relative_Humidity</th>\n",
       "      <th>Precipitation</th>\n",
       "      <th>Specific_Humidity</th>\n",
       "    </tr>\n",
       "  </thead>\n",
       "  <tbody>\n",
       "    <tr>\n",
       "      <th>0</th>\n",
       "      <td>4.30</td>\n",
       "      <td>28.42</td>\n",
       "      <td>61.74</td>\n",
       "      <td>0.0</td>\n",
       "      <td>10.15</td>\n",
       "    </tr>\n",
       "    <tr>\n",
       "      <th>1</th>\n",
       "      <td>4.23</td>\n",
       "      <td>28.61</td>\n",
       "      <td>64.57</td>\n",
       "      <td>0.0</td>\n",
       "      <td>10.92</td>\n",
       "    </tr>\n",
       "    <tr>\n",
       "      <th>2</th>\n",
       "      <td>4.17</td>\n",
       "      <td>27.46</td>\n",
       "      <td>67.83</td>\n",
       "      <td>0.0</td>\n",
       "      <td>11.30</td>\n",
       "    </tr>\n",
       "    <tr>\n",
       "      <th>3</th>\n",
       "      <td>4.36</td>\n",
       "      <td>28.25</td>\n",
       "      <td>56.52</td>\n",
       "      <td>0.0</td>\n",
       "      <td>9.00</td>\n",
       "    </tr>\n",
       "    <tr>\n",
       "      <th>4</th>\n",
       "      <td>4.15</td>\n",
       "      <td>27.52</td>\n",
       "      <td>63.82</td>\n",
       "      <td>0.0</td>\n",
       "      <td>10.41</td>\n",
       "    </tr>\n",
       "  </tbody>\n",
       "</table>\n",
       "</div>"
      ],
      "text/plain": [
       "   insolation  Temperature_MAX  Relative_Humidity  Precipitation  \\\n",
       "0        4.30            28.42              61.74            0.0   \n",
       "1        4.23            28.61              64.57            0.0   \n",
       "2        4.17            27.46              67.83            0.0   \n",
       "3        4.36            28.25              56.52            0.0   \n",
       "4        4.15            27.52              63.82            0.0   \n",
       "\n",
       "   Specific_Humidity  \n",
       "0              10.15  \n",
       "1              10.92  \n",
       "2              11.30  \n",
       "3               9.00  \n",
       "4              10.41  "
      ]
     },
     "execution_count": 17,
     "metadata": {},
     "output_type": "execute_result"
    }
   ],
   "source": [
    "#sample of data\n",
    "data.head()"
   ]
  },
  {
   "cell_type": "markdown",
   "metadata": {},
   "source": [
    "After scaling, we are going to train the model on the dataset. So, the dataset is being spilt into train set and test set. The \"sklearn\" library has function to split the dataset into train and test set."
   ]
  },
  {
   "cell_type": "markdown",
   "metadata": {},
   "source": [
    "\"X\" label will contain the features, while \"y\" label will contain the target variable.<br> test_size = Determine the size of test set from dataset. For ex:- 0.2 means 20% of data is taken as test set while 80% data is train set\n",
    "* X_train = Features of train set \n",
    "* X_test = Features of test set\n",
    "* y_train = Target variable of train set\n",
    "* y_test = Target variable of train set"
   ]
  },
  {
   "cell_type": "code",
   "execution_count": 18,
   "metadata": {},
   "outputs": [],
   "source": [
    "from sklearn.model_selection import train_test_split\n",
    "X = data.drop('insolation',axis=1)\n",
    "y = data['insolation']\n",
    "\n",
    "X_train, X_test, y_train, y_test = train_test_split(X,y,test_size=0.2,random_state=27)"
   ]
  },
  {
   "cell_type": "markdown",
   "metadata": {},
   "source": [
    "Normalization is a scaling technique in which values are shifted and rescaled so that they end up ranging between 0 and 1. It is also known as Min-Max scaling.\n",
    "![Image](https://cdn.analyticsvidhya.com/wp-content/uploads/2020/03/Norm_eq.gif)<br> where, Xmin and Xmax is the minimum and maximum value of the feature."
   ]
  },
  {
   "cell_type": "markdown",
   "metadata": {},
   "source": [
    ".fit() method learns the parameters required for scaling<br>\n",
    ".transform() method scales the data according to the formula using the learned parameters in .fit() method"
   ]
  },
  {
   "cell_type": "markdown",
   "metadata": {},
   "source": [
    "<b> Important Note:- </b> We fit the scaler only on train data, which means we learns the parameters only on train set. Then we transform the train and test data using that scaler. We dont fit the scaler on test set because it will learn the parameters from test data and  will influence the prediction. The test set is meant for testing purpose, not for learning."
   ]
  },
  {
   "cell_type": "code",
   "execution_count": 19,
   "metadata": {},
   "outputs": [],
   "source": [
    "# data normalization with sklearn\n",
    "from sklearn.preprocessing import MinMaxScaler\n",
    "\n",
    "# copy of datasets to avoid changes on original dataset\n",
    "X_train_norm = X_train.copy()\n",
    "X_test_norm = X_test.copy()\n",
    "\n",
    "# numerical features to fit and transform on feature at a time\n",
    "num_cols = ['Temperature_MAX','Relative_Humidity','Precipitation','Specific_Humidity']\n",
    "\n",
    "# apply standardization on numerical features\n",
    "for i in num_cols:\n",
    "# fit scaler on training data\n",
    "    norm = MinMaxScaler().fit(X_train_norm[[i]])\n",
    "\n",
    "# transform training data\n",
    "    X_train_norm[[i]] = norm.transform(X_train_norm[[i]])\n",
    "\n",
    "# transform testing dataabs\n",
    "    X_test_norm[[i]] = norm.transform(X_test_norm[[i]])"
   ]
  },
  {
   "cell_type": "markdown",
   "metadata": {},
   "source": [
    "Here we can see the minimum value is 0 and maximum value is 1 for all features."
   ]
  },
  {
   "cell_type": "code",
   "execution_count": 20,
   "metadata": {},
   "outputs": [
    {
     "data": {
      "text/html": [
       "<div>\n",
       "<style scoped>\n",
       "    .dataframe tbody tr th:only-of-type {\n",
       "        vertical-align: middle;\n",
       "    }\n",
       "\n",
       "    .dataframe tbody tr th {\n",
       "        vertical-align: top;\n",
       "    }\n",
       "\n",
       "    .dataframe thead th {\n",
       "        text-align: right;\n",
       "    }\n",
       "</style>\n",
       "<table border=\"1\" class=\"dataframe\">\n",
       "  <thead>\n",
       "    <tr style=\"text-align: right;\">\n",
       "      <th></th>\n",
       "      <th>Temperature_MAX</th>\n",
       "      <th>Relative_Humidity</th>\n",
       "      <th>Precipitation</th>\n",
       "      <th>Specific_Humidity</th>\n",
       "    </tr>\n",
       "  </thead>\n",
       "  <tbody>\n",
       "    <tr>\n",
       "      <th>count</th>\n",
       "      <td>1461.000000</td>\n",
       "      <td>1461.000000</td>\n",
       "      <td>1461.000000</td>\n",
       "      <td>1461.000000</td>\n",
       "    </tr>\n",
       "    <tr>\n",
       "      <th>mean</th>\n",
       "      <td>0.476748</td>\n",
       "      <td>0.625745</td>\n",
       "      <td>0.026932</td>\n",
       "      <td>0.624387</td>\n",
       "    </tr>\n",
       "    <tr>\n",
       "      <th>std</th>\n",
       "      <td>0.189376</td>\n",
       "      <td>0.223731</td>\n",
       "      <td>0.061855</td>\n",
       "      <td>0.279729</td>\n",
       "    </tr>\n",
       "    <tr>\n",
       "      <th>min</th>\n",
       "      <td>0.000000</td>\n",
       "      <td>0.000000</td>\n",
       "      <td>0.000000</td>\n",
       "      <td>0.000000</td>\n",
       "    </tr>\n",
       "    <tr>\n",
       "      <th>25%</th>\n",
       "      <td>0.364182</td>\n",
       "      <td>0.440491</td>\n",
       "      <td>0.000000</td>\n",
       "      <td>0.383387</td>\n",
       "    </tr>\n",
       "    <tr>\n",
       "      <th>50%</th>\n",
       "      <td>0.458869</td>\n",
       "      <td>0.660914</td>\n",
       "      <td>0.003958</td>\n",
       "      <td>0.685623</td>\n",
       "    </tr>\n",
       "    <tr>\n",
       "      <th>75%</th>\n",
       "      <td>0.595116</td>\n",
       "      <td>0.826543</td>\n",
       "      <td>0.028683</td>\n",
       "      <td>0.882428</td>\n",
       "    </tr>\n",
       "    <tr>\n",
       "      <th>max</th>\n",
       "      <td>1.000000</td>\n",
       "      <td>1.000000</td>\n",
       "      <td>1.000000</td>\n",
       "      <td>1.000000</td>\n",
       "    </tr>\n",
       "  </tbody>\n",
       "</table>\n",
       "</div>"
      ],
      "text/plain": [
       "       Temperature_MAX  Relative_Humidity  Precipitation  Specific_Humidity\n",
       "count      1461.000000        1461.000000    1461.000000        1461.000000\n",
       "mean          0.476748           0.625745       0.026932           0.624387\n",
       "std           0.189376           0.223731       0.061855           0.279729\n",
       "min           0.000000           0.000000       0.000000           0.000000\n",
       "25%           0.364182           0.440491       0.000000           0.383387\n",
       "50%           0.458869           0.660914       0.003958           0.685623\n",
       "75%           0.595116           0.826543       0.028683           0.882428\n",
       "max           1.000000           1.000000       1.000000           1.000000"
      ]
     },
     "execution_count": 20,
     "metadata": {},
     "output_type": "execute_result"
    }
   ],
   "source": [
    "pd.DataFrame(X_train_norm).describe()"
   ]
  },
  {
   "cell_type": "markdown",
   "metadata": {},
   "source": [
    "Standardization is another scaling technique where the values are centered around the mean with a unit standard deviation. This means that the mean of the attribute becomes zero and the resultant distribution has a unit standard deviation.![Image](https://cdn.analyticsvidhya.com/wp-content/uploads/2020/03/Stand_eq.gif)<br>where, $\\mu$ is the mean of the feature values and Feature scaling: $\\sigma$ is the standard deviation of the feature values"
   ]
  },
  {
   "cell_type": "code",
   "execution_count": 21,
   "metadata": {},
   "outputs": [],
   "source": [
    "# data standardization with  sklearn\n",
    "from sklearn.preprocessing import StandardScaler\n",
    "\n",
    "# copy of datasets\n",
    "X_train_stand = X_train.copy()\n",
    "X_test_stand = X_test.copy()\n",
    "\n",
    "# numerical features\n",
    "num_cols = ['Temperature_MAX','Relative_Humidity','Precipitation','Specific_Humidity']\n",
    "scaler=[]\n",
    "# apply standardization on numerical features\n",
    "for i in num_cols:\n",
    "    \n",
    "    # fit on training data column\n",
    "    scale = StandardScaler().fit(X_train_stand[[i]])\n",
    "    \n",
    "    # transform the training data column\n",
    "    X_train_stand[i] = scale.transform(X_train_stand[[i]])\n",
    "    \n",
    "    # transform the testing data column\n",
    "    X_test_stand[i] = scale.transform(X_test_stand[[i]])\n",
    "    \n",
    "    scaler.append(scale)"
   ]
  },
  {
   "cell_type": "code",
   "execution_count": 22,
   "metadata": {},
   "outputs": [
    {
     "data": {
      "text/plain": [
       "[StandardScaler(), StandardScaler(), StandardScaler(), StandardScaler()]"
      ]
     },
     "execution_count": 22,
     "metadata": {},
     "output_type": "execute_result"
    }
   ],
   "source": [
    "scaler"
   ]
  },
  {
   "cell_type": "markdown",
   "metadata": {},
   "source": [
    "Here we can see the mean is 0 (approx) and standard deviation is 1 (approx)."
   ]
  },
  {
   "cell_type": "code",
   "execution_count": 23,
   "metadata": {},
   "outputs": [
    {
     "data": {
      "text/html": [
       "<div>\n",
       "<style scoped>\n",
       "    .dataframe tbody tr th:only-of-type {\n",
       "        vertical-align: middle;\n",
       "    }\n",
       "\n",
       "    .dataframe tbody tr th {\n",
       "        vertical-align: top;\n",
       "    }\n",
       "\n",
       "    .dataframe thead th {\n",
       "        text-align: right;\n",
       "    }\n",
       "</style>\n",
       "<table border=\"1\" class=\"dataframe\">\n",
       "  <thead>\n",
       "    <tr style=\"text-align: right;\">\n",
       "      <th></th>\n",
       "      <th>Temperature_MAX</th>\n",
       "      <th>Relative_Humidity</th>\n",
       "      <th>Precipitation</th>\n",
       "      <th>Specific_Humidity</th>\n",
       "    </tr>\n",
       "  </thead>\n",
       "  <tbody>\n",
       "    <tr>\n",
       "      <th>count</th>\n",
       "      <td>1.461000e+03</td>\n",
       "      <td>1.461000e+03</td>\n",
       "      <td>1.461000e+03</td>\n",
       "      <td>1.461000e+03</td>\n",
       "    </tr>\n",
       "    <tr>\n",
       "      <th>mean</th>\n",
       "      <td>5.855838e-16</td>\n",
       "      <td>1.452181e-16</td>\n",
       "      <td>7.762442e-17</td>\n",
       "      <td>-8.966894e-18</td>\n",
       "    </tr>\n",
       "    <tr>\n",
       "      <th>std</th>\n",
       "      <td>1.000342e+00</td>\n",
       "      <td>1.000342e+00</td>\n",
       "      <td>1.000342e+00</td>\n",
       "      <td>1.000342e+00</td>\n",
       "    </tr>\n",
       "    <tr>\n",
       "      <th>min</th>\n",
       "      <td>-2.518323e+00</td>\n",
       "      <td>-2.797822e+00</td>\n",
       "      <td>-4.355585e-01</td>\n",
       "      <td>-2.232883e+00</td>\n",
       "    </tr>\n",
       "    <tr>\n",
       "      <th>25%</th>\n",
       "      <td>-5.946070e-01</td>\n",
       "      <td>-8.283057e-01</td>\n",
       "      <td>-4.355585e-01</td>\n",
       "      <td>-8.618473e-01</td>\n",
       "    </tr>\n",
       "    <tr>\n",
       "      <th>50%</th>\n",
       "      <td>-9.444078e-02</td>\n",
       "      <td>1.572477e-01</td>\n",
       "      <td>-3.715440e-01</td>\n",
       "      <td>2.189856e-01</td>\n",
       "    </tr>\n",
       "    <tr>\n",
       "      <th>75%</th>\n",
       "      <td>6.252554e-01</td>\n",
       "      <td>8.978049e-01</td>\n",
       "      <td>2.831434e-02</td>\n",
       "      <td>9.227837e-01</td>\n",
       "    </tr>\n",
       "    <tr>\n",
       "      <th>max</th>\n",
       "      <td>2.763975e+00</td>\n",
       "      <td>1.673361e+00</td>\n",
       "      <td>1.573690e+01</td>\n",
       "      <td>1.343235e+00</td>\n",
       "    </tr>\n",
       "  </tbody>\n",
       "</table>\n",
       "</div>"
      ],
      "text/plain": [
       "       Temperature_MAX  Relative_Humidity  Precipitation  Specific_Humidity\n",
       "count     1.461000e+03       1.461000e+03   1.461000e+03       1.461000e+03\n",
       "mean      5.855838e-16       1.452181e-16   7.762442e-17      -8.966894e-18\n",
       "std       1.000342e+00       1.000342e+00   1.000342e+00       1.000342e+00\n",
       "min      -2.518323e+00      -2.797822e+00  -4.355585e-01      -2.232883e+00\n",
       "25%      -5.946070e-01      -8.283057e-01  -4.355585e-01      -8.618473e-01\n",
       "50%      -9.444078e-02       1.572477e-01  -3.715440e-01       2.189856e-01\n",
       "75%       6.252554e-01       8.978049e-01   2.831434e-02       9.227837e-01\n",
       "max       2.763975e+00       1.673361e+00   1.573690e+01       1.343235e+00"
      ]
     },
     "execution_count": 23,
     "metadata": {},
     "output_type": "execute_result"
    }
   ],
   "source": [
    "pd.DataFrame(X_train_stand).describe()"
   ]
  },
  {
   "cell_type": "markdown",
   "metadata": {},
   "source": [
    "Storing all the train set in a list and test set in other list."
   ]
  },
  {
   "cell_type": "code",
   "execution_count": 24,
   "metadata": {},
   "outputs": [],
   "source": [
    "trainX = [X_train, X_train_norm, X_train_stand]\n",
    "testX = [X_test, X_test_norm, X_test_stand]"
   ]
  },
  {
   "cell_type": "markdown",
   "metadata": {},
   "source": [
    "# Training"
   ]
  },
  {
   "cell_type": "markdown",
   "metadata": {},
   "source": [
    "<b> 1. Support Vector Regression (SVR)"
   ]
  },
  {
   "attachments": {
    "image.png": {
     "image/png": "[encoded data removed]"
    }
   },
   "cell_type": "markdown",
   "metadata": {},
   "source": [
    "![image.png](attachment:image.png)"
   ]
  },
  {
   "cell_type": "markdown",
   "metadata": {},
   "source": [
    "In this algorithm, the model tries to fit the line (red) in the data in such a way that maximum data instances comes between the decision boundaries (black lines). The width of the decision boundaries is decided by the factor epsilon.<br> C is the penalty parameter of the error term."
   ]
  },
  {
   "cell_type": "code",
   "execution_count": 25,
   "metadata": {
    "scrolled": false
   },
   "outputs": [
    {
     "data": {
      "text/html": [
       "<div>\n",
       "<style scoped>\n",
       "    .dataframe tbody tr th:only-of-type {\n",
       "        vertical-align: middle;\n",
       "    }\n",
       "\n",
       "    .dataframe tbody tr th {\n",
       "        vertical-align: top;\n",
       "    }\n",
       "\n",
       "    .dataframe thead th {\n",
       "        text-align: right;\n",
       "    }\n",
       "</style>\n",
       "<table border=\"1\" class=\"dataframe\">\n",
       "  <thead>\n",
       "    <tr style=\"text-align: right;\">\n",
       "      <th></th>\n",
       "      <th>SVR_RMSE</th>\n",
       "    </tr>\n",
       "  </thead>\n",
       "  <tbody>\n",
       "    <tr>\n",
       "      <th>Original</th>\n",
       "      <td>0.806319</td>\n",
       "    </tr>\n",
       "    <tr>\n",
       "      <th>Normalized</th>\n",
       "      <td>0.781673</td>\n",
       "    </tr>\n",
       "    <tr>\n",
       "      <th>Standardized</th>\n",
       "      <td>0.771727</td>\n",
       "    </tr>\n",
       "  </tbody>\n",
       "</table>\n",
       "</div>"
      ],
      "text/plain": [
       "              SVR_RMSE\n",
       "Original      0.806319\n",
       "Normalized    0.781673\n",
       "Standardized  0.771727"
      ]
     },
     "execution_count": 25,
     "metadata": {},
     "output_type": "execute_result"
    }
   ],
   "source": [
    "# training an SVR model\n",
    "from  sklearn.svm import SVR\n",
    "# measuring RMSE score\n",
    "from sklearn.metrics import mean_squared_error\n",
    "\n",
    "# SVR\n",
    "svr = SVR(C=7,  epsilon=0.4)\n",
    "\n",
    "rmse = []\n",
    "\n",
    "# model fitting and measuring RMSE\n",
    "for i in range(len(trainX)):\n",
    "    \n",
    "    # fit\n",
    "    svr.fit(trainX[i],y_train)\n",
    "    # predict\n",
    "    pred = svr.predict(testX[i])\n",
    "    # RMSE\n",
    "    rmse.append(np.sqrt(mean_squared_error(y_test,pred)))\n",
    "\n",
    "# visualizing the result    \n",
    "df_svr = pd.DataFrame({'SVR_RMSE':rmse},index=['Original','Normalized','Standardized'])\n",
    "df_svr"
   ]
  },
  {
   "cell_type": "markdown",
   "metadata": {},
   "source": [
    "<b>2. K-Nearest Neighbors"
   ]
  },
  {
   "attachments": {
    "image.png": {
     "image/png": "[encoded data removed]"
    }
   },
   "cell_type": "markdown",
   "metadata": {},
   "source": [
    "![image.png](attachment:image.png)"
   ]
  },
  {
   "cell_type": "markdown",
   "metadata": {},
   "source": [
    "In this algorithm, when new value is predicted as per similarity of data points in training set. The target is predicted by local interpolation of the targets associated of the nearest neighbors in the training set. <br>\n",
    "n_neighbors is the K value, which tells the model to take average of how many data points in train set.\n"
   ]
  },
  {
   "cell_type": "code",
   "execution_count": 26,
   "metadata": {},
   "outputs": [
    {
     "data": {
      "text/html": [
       "<div>\n",
       "<style scoped>\n",
       "    .dataframe tbody tr th:only-of-type {\n",
       "        vertical-align: middle;\n",
       "    }\n",
       "\n",
       "    .dataframe tbody tr th {\n",
       "        vertical-align: top;\n",
       "    }\n",
       "\n",
       "    .dataframe thead th {\n",
       "        text-align: right;\n",
       "    }\n",
       "</style>\n",
       "<table border=\"1\" class=\"dataframe\">\n",
       "  <thead>\n",
       "    <tr style=\"text-align: right;\">\n",
       "      <th></th>\n",
       "      <th>NEIGH_RMSE</th>\n",
       "    </tr>\n",
       "  </thead>\n",
       "  <tbody>\n",
       "    <tr>\n",
       "      <th>Original</th>\n",
       "      <td>0.869779</td>\n",
       "    </tr>\n",
       "    <tr>\n",
       "      <th>Normalized</th>\n",
       "      <td>0.873296</td>\n",
       "    </tr>\n",
       "    <tr>\n",
       "      <th>Standardized</th>\n",
       "      <td>0.844331</td>\n",
       "    </tr>\n",
       "  </tbody>\n",
       "</table>\n",
       "</div>"
      ],
      "text/plain": [
       "              NEIGH_RMSE\n",
       "Original        0.869779\n",
       "Normalized      0.873296\n",
       "Standardized    0.844331"
      ]
     },
     "execution_count": 26,
     "metadata": {},
     "output_type": "execute_result"
    }
   ],
   "source": [
    "from sklearn.neighbors import KNeighborsRegressor\n",
    "neigh = KNeighborsRegressor(n_neighbors=5)\n",
    "rmse = []\n",
    "\n",
    "for i in range(len(trainX)):\n",
    "    \n",
    "    # fit\n",
    "    neigh.fit(trainX[i],y_train)\n",
    "    # predict\n",
    "    pred = neigh.predict(testX[i])\n",
    "    # RMSE\n",
    "    rmse.append(np.sqrt(mean_squared_error(y_test,pred)))\n",
    "\n",
    "# visualizing the result    \n",
    "df_neigh = pd.DataFrame({'NEIGH_RMSE':rmse},index=['Original','Normalized','Standardized'])\n",
    "df_neigh\n"
   ]
  },
  {
   "cell_type": "markdown",
   "metadata": {},
   "source": [
    "<b>3. Decision Tree"
   ]
  },
  {
   "attachments": {
    "image.png": {
     "image/png": "[encoded data removed]"
    }
   },
   "cell_type": "markdown",
   "metadata": {},
   "source": [
    "![image.png](attachment:image.png)"
   ]
  },
  {
   "cell_type": "markdown",
   "metadata": {},
   "source": [
    "In this algorithm,  the data is split into two  homogeneous sets. This is done using single feature and a threshold. It searches feature and threshold pair which produce purest subsets.<br>\n",
    "max_depth represents The maximum depth of the tree.<br>\n",
    "min_samples_leaf represents The minimum number of samples required to be at a leaf node."
   ]
  },
  {
   "cell_type": "code",
   "execution_count": 27,
   "metadata": {},
   "outputs": [
    {
     "data": {
      "text/html": [
       "<div>\n",
       "<style scoped>\n",
       "    .dataframe tbody tr th:only-of-type {\n",
       "        vertical-align: middle;\n",
       "    }\n",
       "\n",
       "    .dataframe tbody tr th {\n",
       "        vertical-align: top;\n",
       "    }\n",
       "\n",
       "    .dataframe thead th {\n",
       "        text-align: right;\n",
       "    }\n",
       "</style>\n",
       "<table border=\"1\" class=\"dataframe\">\n",
       "  <thead>\n",
       "    <tr style=\"text-align: right;\">\n",
       "      <th></th>\n",
       "      <th>TREE_RMSE</th>\n",
       "    </tr>\n",
       "  </thead>\n",
       "  <tbody>\n",
       "    <tr>\n",
       "      <th>Original</th>\n",
       "      <td>0.819855</td>\n",
       "    </tr>\n",
       "    <tr>\n",
       "      <th>Normalized</th>\n",
       "      <td>0.819855</td>\n",
       "    </tr>\n",
       "    <tr>\n",
       "      <th>Standardized</th>\n",
       "      <td>0.819855</td>\n",
       "    </tr>\n",
       "  </tbody>\n",
       "</table>\n",
       "</div>"
      ],
      "text/plain": [
       "              TREE_RMSE\n",
       "Original       0.819855\n",
       "Normalized     0.819855\n",
       "Standardized   0.819855"
      ]
     },
     "execution_count": 27,
     "metadata": {},
     "output_type": "execute_result"
    }
   ],
   "source": [
    "from sklearn.tree import DecisionTreeRegressor \n",
    "tree_reg = DecisionTreeRegressor(max_depth=4,min_samples_leaf=5)\n",
    "rmse = []\n",
    "\n",
    "for i in range(len(trainX)):\n",
    "    \n",
    "    # fit\n",
    "    tree_reg.fit(trainX[i],y_train)\n",
    "    # predict\n",
    "    pred = tree_reg.predict(testX[i])\n",
    "    # RMSE\n",
    "    rmse.append(np.sqrt(mean_squared_error(y_test,pred)))\n",
    "\n",
    "# visualizing the result    \n",
    "df_tree_reg = pd.DataFrame({'TREE_RMSE':rmse},index=['Original','Normalized','Standardized'])\n",
    "df_tree_reg"
   ]
  },
  {
   "cell_type": "markdown",
   "metadata": {},
   "source": [
    "<b>4. Random Forest"
   ]
  },
  {
   "cell_type": "markdown",
   "metadata": {},
   "source": [
    "It is the collection of many decision trees. The predicted value is the average of all decision trees predicted values.<br>\n",
    "n_estimators = number of decision tree models<br>\n",
    "n_jobs = how many cores to use while training. -1 means to use all cores"
   ]
  },
  {
   "cell_type": "code",
   "execution_count": 28,
   "metadata": {
    "scrolled": true
   },
   "outputs": [
    {
     "data": {
      "text/html": [
       "<div>\n",
       "<style scoped>\n",
       "    .dataframe tbody tr th:only-of-type {\n",
       "        vertical-align: middle;\n",
       "    }\n",
       "\n",
       "    .dataframe tbody tr th {\n",
       "        vertical-align: top;\n",
       "    }\n",
       "\n",
       "    .dataframe thead th {\n",
       "        text-align: right;\n",
       "    }\n",
       "</style>\n",
       "<table border=\"1\" class=\"dataframe\">\n",
       "  <thead>\n",
       "    <tr style=\"text-align: right;\">\n",
       "      <th></th>\n",
       "      <th>RND_RMSE</th>\n",
       "    </tr>\n",
       "  </thead>\n",
       "  <tbody>\n",
       "    <tr>\n",
       "      <th>Original</th>\n",
       "      <td>0.774881</td>\n",
       "    </tr>\n",
       "    <tr>\n",
       "      <th>Normalized</th>\n",
       "      <td>0.775393</td>\n",
       "    </tr>\n",
       "    <tr>\n",
       "      <th>Standardized</th>\n",
       "      <td>0.775781</td>\n",
       "    </tr>\n",
       "  </tbody>\n",
       "</table>\n",
       "</div>"
      ],
      "text/plain": [
       "              RND_RMSE\n",
       "Original      0.774881\n",
       "Normalized    0.775393\n",
       "Standardized  0.775781"
      ]
     },
     "execution_count": 28,
     "metadata": {},
     "output_type": "execute_result"
    }
   ],
   "source": [
    "from sklearn.ensemble import RandomForestRegressor\n",
    "rnd_reg = RandomForestRegressor(  max_depth=6,n_estimators=500, n_jobs=-1) \n",
    "rmse = []\n",
    "\n",
    "for i in range(len(trainX)):\n",
    "    \n",
    "    # fit\n",
    "    rnd_reg.fit(trainX[i],y_train)\n",
    "    # predict\n",
    "    pred = rnd_reg.predict(testX[i])\n",
    "    # RMSE\n",
    "    rmse.append(np.sqrt(mean_squared_error(y_test,pred)))\n",
    "\n",
    "# visualizing the result    \n",
    "df_rnd_reg = pd.DataFrame({'RND_RMSE':rmse},index=['Original','Normalized','Standardized'])\n",
    "df_rnd_reg"
   ]
  },
  {
   "cell_type": "markdown",
   "metadata": {},
   "source": [
    "<b>5. Voting Regressor"
   ]
  },
  {
   "cell_type": "markdown",
   "metadata": {},
   "source": [
    "In this algorithm, different types of machine learning models are trained and their predictions are aggregated. Then it averages the individual predictions to form a final prediction."
   ]
  },
  {
   "cell_type": "code",
   "execution_count": 29,
   "metadata": {},
   "outputs": [
    {
     "data": {
      "text/html": [
       "<div>\n",
       "<style scoped>\n",
       "    .dataframe tbody tr th:only-of-type {\n",
       "        vertical-align: middle;\n",
       "    }\n",
       "\n",
       "    .dataframe tbody tr th {\n",
       "        vertical-align: top;\n",
       "    }\n",
       "\n",
       "    .dataframe thead th {\n",
       "        text-align: right;\n",
       "    }\n",
       "</style>\n",
       "<table border=\"1\" class=\"dataframe\">\n",
       "  <thead>\n",
       "    <tr style=\"text-align: right;\">\n",
       "      <th></th>\n",
       "      <th>VOTING_RMSE</th>\n",
       "    </tr>\n",
       "  </thead>\n",
       "  <tbody>\n",
       "    <tr>\n",
       "      <th>Original</th>\n",
       "      <td>0.774781</td>\n",
       "    </tr>\n",
       "    <tr>\n",
       "      <th>Normalized</th>\n",
       "      <td>0.763322</td>\n",
       "    </tr>\n",
       "    <tr>\n",
       "      <th>Standardized</th>\n",
       "      <td>0.762817</td>\n",
       "    </tr>\n",
       "  </tbody>\n",
       "</table>\n",
       "</div>"
      ],
      "text/plain": [
       "              VOTING_RMSE\n",
       "Original         0.774781\n",
       "Normalized       0.763322\n",
       "Standardized     0.762817"
      ]
     },
     "execution_count": 29,
     "metadata": {},
     "output_type": "execute_result"
    }
   ],
   "source": [
    "from sklearn.ensemble import RandomForestRegressor\n",
    "from sklearn.svm      import SVR\n",
    "from sklearn.ensemble import VotingRegressor\n",
    " \n",
    "rnd = RandomForestRegressor(max_depth=6,n_estimators=500) \n",
    "svm = SVR(C=7,  epsilon=0.4)\n",
    "\n",
    "voting_reg = VotingRegressor( estimators=[ ('rf', rnd), ('svr', svm)], n_jobs=-1)\n",
    "rmse = []\n",
    "\n",
    "for i in range(len(trainX)):\n",
    "    \n",
    "    # fit\n",
    "    voting_reg.fit(trainX[i],y_train)\n",
    "    # predict\n",
    "    pred = voting_reg.predict(testX[i])\n",
    "    # RMSE\n",
    "    rmse.append(np.sqrt(mean_squared_error(y_test,pred)))\n",
    "\n",
    "# visualizing the result    \n",
    "df_voting_reg = pd.DataFrame({'VOTING_RMSE':rmse},index=['Original','Normalized','Standardized'])\n",
    "df_voting_reg"
   ]
  },
  {
   "cell_type": "markdown",
   "metadata": {},
   "source": [
    "<b>6. Bagging Regressor"
   ]
  },
  {
   "cell_type": "markdown",
   "metadata": {},
   "source": [
    "A Bagging regressor is an ensemble of base regressors each on random subsets of the original dataset and then aggregate their individual predictions ( by averaging) to form a final prediction. The subset are sampled with replacement."
   ]
  },
  {
   "cell_type": "code",
   "execution_count": 30,
   "metadata": {},
   "outputs": [
    {
     "data": {
      "text/html": [
       "<div>\n",
       "<style scoped>\n",
       "    .dataframe tbody tr th:only-of-type {\n",
       "        vertical-align: middle;\n",
       "    }\n",
       "\n",
       "    .dataframe tbody tr th {\n",
       "        vertical-align: top;\n",
       "    }\n",
       "\n",
       "    .dataframe thead th {\n",
       "        text-align: right;\n",
       "    }\n",
       "</style>\n",
       "<table border=\"1\" class=\"dataframe\">\n",
       "  <thead>\n",
       "    <tr style=\"text-align: right;\">\n",
       "      <th></th>\n",
       "      <th>BAG_RMSE</th>\n",
       "    </tr>\n",
       "  </thead>\n",
       "  <tbody>\n",
       "    <tr>\n",
       "      <th>Original</th>\n",
       "      <td>0.807482</td>\n",
       "    </tr>\n",
       "    <tr>\n",
       "      <th>Normalized</th>\n",
       "      <td>0.779764</td>\n",
       "    </tr>\n",
       "    <tr>\n",
       "      <th>Standardized</th>\n",
       "      <td>0.779337</td>\n",
       "    </tr>\n",
       "  </tbody>\n",
       "</table>\n",
       "</div>"
      ],
      "text/plain": [
       "              BAG_RMSE\n",
       "Original      0.807482\n",
       "Normalized    0.779764\n",
       "Standardized  0.779337"
      ]
     },
     "execution_count": 30,
     "metadata": {},
     "output_type": "execute_result"
    }
   ],
   "source": [
    "from sklearn.ensemble import BaggingRegressor\n",
    "svm = SVR(C=7,  epsilon=0.4)\n",
    "\n",
    "bag_reg = BaggingRegressor(base_estimator=svm, n_estimators=50)\n",
    "rmse = []\n",
    "\n",
    "for i in range(len(trainX)):\n",
    "    \n",
    "    # fit\n",
    "    bag_reg.fit(trainX[i],y_train)\n",
    "    # predict\n",
    "    pred = bag_reg.predict(testX[i])\n",
    "    # RMSE\n",
    "    rmse.append(np.sqrt(mean_squared_error(y_test,pred)))\n",
    "\n",
    "# visualizing the result    \n",
    "df_bag_reg = pd.DataFrame({'BAG_RMSE':rmse},index=['Original','Normalized','Standardized'])\n",
    "df_bag_reg"
   ]
  },
  {
   "cell_type": "markdown",
   "metadata": {},
   "source": [
    "<b>7. AdaBoost Regressor"
   ]
  },
  {
   "cell_type": "markdown",
   "metadata": {},
   "source": [
    "The algorithm first trains a base classifier and uses it to make predictions on the training set. The algorithm then increases the relative weight of misclassified training instances. Then it trains a second classifier, using the updated weights, and again makes predictions on the training set, updates the instance weights, and so on.<br>\n",
    "\n",
    "Learning rate shrinks the contribution of each regressor by learning_rate"
   ]
  },
  {
   "cell_type": "code",
   "execution_count": 31,
   "metadata": {},
   "outputs": [
    {
     "data": {
      "text/html": [
       "<div>\n",
       "<style scoped>\n",
       "    .dataframe tbody tr th:only-of-type {\n",
       "        vertical-align: middle;\n",
       "    }\n",
       "\n",
       "    .dataframe tbody tr th {\n",
       "        vertical-align: top;\n",
       "    }\n",
       "\n",
       "    .dataframe thead th {\n",
       "        text-align: right;\n",
       "    }\n",
       "</style>\n",
       "<table border=\"1\" class=\"dataframe\">\n",
       "  <thead>\n",
       "    <tr style=\"text-align: right;\">\n",
       "      <th></th>\n",
       "      <th>ADA_RMSE</th>\n",
       "    </tr>\n",
       "  </thead>\n",
       "  <tbody>\n",
       "    <tr>\n",
       "      <th>Original</th>\n",
       "      <td>0.785136</td>\n",
       "    </tr>\n",
       "    <tr>\n",
       "      <th>Normalized</th>\n",
       "      <td>0.797334</td>\n",
       "    </tr>\n",
       "    <tr>\n",
       "      <th>Standardized</th>\n",
       "      <td>0.784595</td>\n",
       "    </tr>\n",
       "  </tbody>\n",
       "</table>\n",
       "</div>"
      ],
      "text/plain": [
       "              ADA_RMSE\n",
       "Original      0.785136\n",
       "Normalized    0.797334\n",
       "Standardized  0.784595"
      ]
     },
     "execution_count": 31,
     "metadata": {},
     "output_type": "execute_result"
    }
   ],
   "source": [
    "from sklearn.ensemble import AdaBoostRegressor\n",
    "ada_reg = AdaBoostRegressor( DecisionTreeRegressor(max_depth=10),learning_rate=0.02)\n",
    "rmse = []\n",
    "\n",
    "for i in range(len(trainX)):\n",
    "    \n",
    "    # fit\n",
    "    ada_reg.fit(trainX[i],y_train)\n",
    "    # predict\n",
    "    pred = ada_reg.predict(testX[i])\n",
    "    # RMSE\n",
    "    rmse.append(np.sqrt(mean_squared_error(y_test,pred)))\n",
    "\n",
    "# visualizing the result    \n",
    "df_ada_reg = pd.DataFrame({'ADA_RMSE':rmse},index=['Original','Normalized','Standardized'])\n",
    "df_ada_reg"
   ]
  },
  {
   "cell_type": "markdown",
   "metadata": {},
   "source": [
    "<b>8. Gradient Boosting"
   ]
  },
  {
   "cell_type": "markdown",
   "metadata": {},
   "source": [
    "Similar as above algorithm, , instead of tweaking the instance weights at every iteration like AdaBoost does, this method tries to fit the new predictor to the residual\n",
    "errors made by the previous predictor."
   ]
  },
  {
   "cell_type": "markdown",
   "metadata": {},
   "source": [
    "gamma = Minimum loss reduction required to make a further partition on a leaf node of the tree."
   ]
  },
  {
   "cell_type": "code",
   "execution_count": 32,
   "metadata": {
    "scrolled": true
   },
   "outputs": [
    {
     "data": {
      "text/html": [
       "<div>\n",
       "<style scoped>\n",
       "    .dataframe tbody tr th:only-of-type {\n",
       "        vertical-align: middle;\n",
       "    }\n",
       "\n",
       "    .dataframe tbody tr th {\n",
       "        vertical-align: top;\n",
       "    }\n",
       "\n",
       "    .dataframe thead th {\n",
       "        text-align: right;\n",
       "    }\n",
       "</style>\n",
       "<table border=\"1\" class=\"dataframe\">\n",
       "  <thead>\n",
       "    <tr style=\"text-align: right;\">\n",
       "      <th></th>\n",
       "      <th>XGB_RMSE</th>\n",
       "    </tr>\n",
       "  </thead>\n",
       "  <tbody>\n",
       "    <tr>\n",
       "      <th>Original</th>\n",
       "      <td>0.788517</td>\n",
       "    </tr>\n",
       "    <tr>\n",
       "      <th>Normalized</th>\n",
       "      <td>0.788686</td>\n",
       "    </tr>\n",
       "    <tr>\n",
       "      <th>Standardized</th>\n",
       "      <td>0.789015</td>\n",
       "    </tr>\n",
       "  </tbody>\n",
       "</table>\n",
       "</div>"
      ],
      "text/plain": [
       "              XGB_RMSE\n",
       "Original      0.788517\n",
       "Normalized    0.788686\n",
       "Standardized  0.789015"
      ]
     },
     "execution_count": 32,
     "metadata": {},
     "output_type": "execute_result"
    }
   ],
   "source": [
    "import xgboost\n",
    "xgb_reg = xgboost.XGBRegressor(n_estimators=23,max_depth=5 ,n_jobs=-1 ,gamma=0.01)\n",
    "\n",
    "rmse = []\n",
    "\n",
    "for i in range(len(trainX)):\n",
    "    \n",
    "    # fit\n",
    "    xgb_reg.fit(trainX[i],y_train)\n",
    "    # predict\n",
    "    pred = xgb_reg.predict(testX[i])\n",
    "    # RMSE\n",
    "    rmse.append(np.sqrt(mean_squared_error(y_test,pred)))\n",
    "\n",
    "# visualizing the result    \n",
    "df_xgb_reg = pd.DataFrame({'XGB_RMSE':rmse},index=['Original','Normalized','Standardized'])\n",
    "df_xgb_reg"
   ]
  },
  {
   "cell_type": "markdown",
   "metadata": {},
   "source": [
    "We have experimented all the 3 types of data with differnt kinds of algorithms. Let's look at all the errors in a table."
   ]
  },
  {
   "cell_type": "code",
   "execution_count": 33,
   "metadata": {},
   "outputs": [
    {
     "data": {
      "text/html": [
       "<div>\n",
       "<style scoped>\n",
       "    .dataframe tbody tr th:only-of-type {\n",
       "        vertical-align: middle;\n",
       "    }\n",
       "\n",
       "    .dataframe tbody tr th {\n",
       "        vertical-align: top;\n",
       "    }\n",
       "\n",
       "    .dataframe thead th {\n",
       "        text-align: right;\n",
       "    }\n",
       "</style>\n",
       "<table border=\"1\" class=\"dataframe\">\n",
       "  <thead>\n",
       "    <tr style=\"text-align: right;\">\n",
       "      <th></th>\n",
       "      <th>SVR_RMSE</th>\n",
       "      <th>NEIGH_RMSE</th>\n",
       "      <th>TREE_RMSE</th>\n",
       "      <th>RND_RMSE</th>\n",
       "      <th>VOTING_RMSE</th>\n",
       "      <th>BAG_RMSE</th>\n",
       "      <th>ADA_RMSE</th>\n",
       "      <th>XGB_RMSE</th>\n",
       "    </tr>\n",
       "  </thead>\n",
       "  <tbody>\n",
       "    <tr>\n",
       "      <th>Original</th>\n",
       "      <td>0.806319</td>\n",
       "      <td>0.869779</td>\n",
       "      <td>0.819855</td>\n",
       "      <td>0.774881</td>\n",
       "      <td>0.774781</td>\n",
       "      <td>0.807482</td>\n",
       "      <td>0.785136</td>\n",
       "      <td>0.788517</td>\n",
       "    </tr>\n",
       "    <tr>\n",
       "      <th>Normalized</th>\n",
       "      <td>0.781673</td>\n",
       "      <td>0.873296</td>\n",
       "      <td>0.819855</td>\n",
       "      <td>0.775393</td>\n",
       "      <td>0.763322</td>\n",
       "      <td>0.779764</td>\n",
       "      <td>0.797334</td>\n",
       "      <td>0.788686</td>\n",
       "    </tr>\n",
       "    <tr>\n",
       "      <th>Standardized</th>\n",
       "      <td>0.771727</td>\n",
       "      <td>0.844331</td>\n",
       "      <td>0.819855</td>\n",
       "      <td>0.775781</td>\n",
       "      <td>0.762817</td>\n",
       "      <td>0.779337</td>\n",
       "      <td>0.784595</td>\n",
       "      <td>0.789015</td>\n",
       "    </tr>\n",
       "  </tbody>\n",
       "</table>\n",
       "</div>"
      ],
      "text/plain": [
       "              SVR_RMSE  NEIGH_RMSE  TREE_RMSE  RND_RMSE  VOTING_RMSE  \\\n",
       "Original      0.806319    0.869779   0.819855  0.774881     0.774781   \n",
       "Normalized    0.781673    0.873296   0.819855  0.775393     0.763322   \n",
       "Standardized  0.771727    0.844331   0.819855  0.775781     0.762817   \n",
       "\n",
       "              BAG_RMSE  ADA_RMSE  XGB_RMSE  \n",
       "Original      0.807482  0.785136  0.788517  \n",
       "Normalized    0.779764  0.797334  0.788686  \n",
       "Standardized  0.779337  0.784595  0.789015  "
      ]
     },
     "execution_count": 33,
     "metadata": {},
     "output_type": "execute_result"
    }
   ],
   "source": [
    "df=pd.concat([df_svr,df_neigh,df_tree_reg,df_rnd_reg,df_voting_reg,df_bag_reg,df_ada_reg, df_xgb_reg], axis=1)\n",
    "df"
   ]
  },
  {
   "cell_type": "markdown",
   "metadata": {},
   "source": [
    "Here, we can clearly see that the standardized set trained on Voting Regressor has the minimum error. So, we this particular model with specific hyperparameters for prediction of solar insolation."
   ]
  },
  {
   "cell_type": "markdown",
   "metadata": {},
   "source": [
    "# Prediction"
   ]
  },
  {
   "cell_type": "markdown",
   "metadata": {},
   "source": [
    "Now, we will define a predict function which will take model,  as arguments and predict the solar insolation.<br>The function will standardize the data according to the scaler which was trained on train set and predict the output according to the transformed data."
   ]
  },
  {
   "cell_type": "code",
   "execution_count": 34,
   "metadata": {},
   "outputs": [],
   "source": [
    "def predict(model,data,scaler):\n",
    "    \"\"\"\n",
    "    This fuction will take 3 arguments:-\n",
    "    model:- Predictive model\n",
    "    data:- a dataframe containing the parameters used for prediction\n",
    "    scaler:- an array containg all the scalers for particular feature \n",
    "    \"\"\"\n",
    "    #Initialising an empty list to store the transformed values\n",
    "    transformed_data=[]\n",
    "    \n",
    "    #scaling the feature value according to respective scaler\n",
    "    for i in range(len(scaler)):\n",
    "        a= scaler[i].transform(data[[i]]) # this performs transformation\n",
    "        transformed_data.append(a[0]) #appending the transformed value in the list\n",
    "        \n",
    "    # Converting the list to dataframe\n",
    "    transformed_data= pd.DataFrame(transformed_data)\n",
    "    transformed_data=transformed_data.transpose()\n",
    "    \n",
    "    #storing the prediction and returning the output\n",
    "    result=model.predict(transformed_data)\n",
    "    return print(f'The solar insolation for given parameters is {result[0]}')"
   ]
  },
  {
   "cell_type": "code",
   "execution_count": 38,
   "metadata": {},
   "outputs": [],
   "source": [
    "#Parameters required for prediction\n",
    "Temperature_MAX =24.08 # in degree celsius\n",
    "Relative_Humidity=70.22 # in %\n",
    "Precipitation=25.37 # in mm/day\n",
    "Specific_Humidity=10.44 # in g/kg"
   ]
  },
  {
   "cell_type": "code",
   "execution_count": 39,
   "metadata": {},
   "outputs": [],
   "source": [
    "#Storing all the parameters in the dataframe\n",
    "data=pd.DataFrame([[Temperature_MAX,Relative_Humidity,Precipitation,Specific_Humidity]])"
   ]
  },
  {
   "cell_type": "code",
   "execution_count": 40,
   "metadata": {
    "scrolled": true
   },
   "outputs": [
    {
     "name": "stdout",
     "output_type": "stream",
     "text": [
      "The solar insolation for given parameters is 3.0230918463246192\n"
     ]
    }
   ],
   "source": [
    "#Performing prediction\n",
    "predict(voting_reg,data,scaler)"
   ]
  }
 ],
 "metadata": {
  "kernelspec": {
   "display_name": "Python 3",
   "language": "python",
   "name": "python3"
  },
  "language_info": {
   "codemirror_mode": {
    "name": "ipython",
    "version": 3
   },
   "file_extension": ".py",
   "mimetype": "text/x-python",
   "name": "python",
   "nbconvert_exporter": "python",
   "pygments_lexer": "ipython3",
   "version": "3.7.3"
  }
 },
 "nbformat": 4,
 "nbformat_minor": 2
}
